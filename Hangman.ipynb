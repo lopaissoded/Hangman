{
 "cells": [
  {
   "cell_type": "code",
   "execution_count": 1,
   "id": "027b5748",
   "metadata": {},
   "outputs": [],
   "source": [
    "import random"
   ]
  },
  {
   "cell_type": "code",
   "execution_count": 2,
   "id": "bfa118a9",
   "metadata": {},
   "outputs": [],
   "source": [
    "guess_list = ['Almond', 'Banana', 'Blewits', 'Brazil', 'Carrot', 'Casaba', 'Cashew', 'Celery', 'Cherry', 'Chives', 'Chocho', 'Citron', 'Citrus', 'Cob nut', 'Cooker', 'Daikon', 'Damson', 'Endive', 'Fennel', 'Garlic', 'Girkin', 'Greens', 'Kiwano', 'Lentil', 'Lichee', 'Lychee', 'Marrow', 'Medlar', 'Nettle', 'Orange', 'Oyster', 'Papaya', 'Pawpaw', 'Peanut', 'Pepper', 'Pignut', 'Pippin', 'Potato', 'Quince', 'Radish', 'Raisin', 'Rocket', 'Russet', 'Squash', 'Tomato', 'Turnip', 'Wakame', 'Walnut']\n",
    "# guess_list = ['Almond', 'Banana', 'Blewits', 'Brazil', 'Carrot', 'Casaba', 'Cashew', 'Celery', 'Cherry', 'Chives', 'Chocho', 'Citron', 'Citrus', 'Cob nut', 'Cooker', 'Daikon', 'Damson', 'Endive', 'Fennel', 'Garlic', 'Girkin', 'Greens', 'Kiwano', 'Lentil', 'Lichee', 'Lychee', 'Marrow', 'Medlar', 'Nettle', 'Orange', 'Oyster', 'Papaya', 'Pawpaw', 'Peanut', 'Pepper', 'Pignut', 'Pippin', 'Potato', 'Quince', 'Radish', 'Raisin', 'Rocket', 'Russet', 'Squash', 'Tomato', 'Turnip', 'Wakame', 'Walnut', 'Wikipedia']"
   ]
  },
  {
   "cell_type": "code",
   "execution_count": 3,
   "id": "6fa855b5",
   "metadata": {},
   "outputs": [],
   "source": [
    "guessing_word=random.choice(guess_list).lower()\n",
    "letters=len(guessing_word)"
   ]
  },
  {
   "cell_type": "code",
   "execution_count": 4,
   "id": "9b202eb5",
   "metadata": {},
   "outputs": [],
   "source": [
    "game_over=False\n",
    "tries=6"
   ]
  },
  {
   "cell_type": "code",
   "execution_count": 5,
   "id": "2185b2e2",
   "metadata": {},
   "outputs": [],
   "source": [
    "result=[]\n",
    "for i in range(letters):\n",
    "    result+='_'"
   ]
  },
  {
   "cell_type": "code",
   "execution_count": 6,
   "id": "7b91cbbd",
   "metadata": {},
   "outputs": [],
   "source": [
    "lives = ['''\n",
    "  ________\n",
    "   |     \\|\n",
    "   O      |\n",
    "  /|\\     |\n",
    "  / \\     |\n",
    "          |\n",
    "  =========\n",
    " ''' , '''\n",
    "  ________\n",
    "   |     \\|\n",
    "   O      |\n",
    "  /|\\     |\n",
    "    \\     |\n",
    "          |\n",
    "  =========\n",
    "  ''' , '''\n",
    "  ________\n",
    "   |     \\|\n",
    "   O      |\n",
    "  /|\\     |\n",
    "          |\n",
    "          |\n",
    "  =========\n",
    "  ''','''\n",
    "  ________\n",
    "   |     \\|\n",
    "   O      |\n",
    "   |\\     |\n",
    "          |\n",
    "          |\n",
    "  =========\n",
    "  ''','''\n",
    "  ________\n",
    "   |     \\|\n",
    "   O      |\n",
    "   |      |\n",
    "          |\n",
    "          |\n",
    "  =========\n",
    "   ''','''\n",
    "  ________\n",
    "   |     \\|\n",
    "   O      |\n",
    "          |\n",
    "          |\n",
    "  =========\n",
    "  ''',''' \n",
    "  ________\n",
    "   |     \\|\n",
    "          |\n",
    "          |\n",
    "          |\n",
    "          |\n",
    "  =========\n",
    "   ''']"
   ]
  },
  {
   "cell_type": "code",
   "execution_count": 7,
   "id": "0e172cdf",
   "metadata": {},
   "outputs": [],
   "source": [
    "# s=\"\"\n",
    "# ' '.join(result)\n",
    "# print(guessing_word)"
   ]
  },
  {
   "cell_type": "code",
   "execution_count": 8,
   "id": "b68ba1a4",
   "metadata": {},
   "outputs": [
    {
     "name": "stdout",
     "output_type": "stream",
     "text": [
      "Guess a letter: e\n",
      "You have 5 tries left\n",
      "\n",
      "\n",
      "  ________\n",
      "   |     \\|\n",
      "   O      |\n",
      "          |\n",
      "          |\n",
      "  =========\n",
      "  \n",
      "Guess a letter: i\n",
      "You have 4 tries left\n",
      "\n",
      "\n",
      "  ________\n",
      "   |     \\|\n",
      "   O      |\n",
      "   |      |\n",
      "          |\n",
      "          |\n",
      "  =========\n",
      "   \n",
      "Guess a letter: a\n",
      "a _ _ _ _ _ \n",
      "\n",
      "Guess a letter: l\n",
      "a l _ _ _ _ \n",
      "\n",
      "Guess a letter: m\n",
      "a l m _ _ _ \n",
      "\n",
      "Guess a letter: o\n",
      "a l m o _ _ \n",
      "\n",
      "Guess a letter: n\n",
      "a l m o n _ \n",
      "\n",
      "Guess a letter: d\n",
      "a l m o n d \n",
      "\n",
      "You win\n"
     ]
    }
   ],
   "source": [
    "while not game_over:\n",
    "    guess=input(\"Guess a letter: \")\n",
    "    \n",
    "    if guess in guessing_word:\n",
    "        for pos in range(len(guessing_word)):\n",
    "            if guessing_word[pos]==guess:\n",
    "                result[pos]=guess\n",
    "            \n",
    "            \n",
    "        print(' '.join(result),\"\\n\")\n",
    "        \n",
    "        if ''.join(result)==guessing_word:\n",
    "            print(\"You win\")\n",
    "            game_over=True\n",
    "        \n",
    "    else:\n",
    "        tries-=1\n",
    "        if tries==0:\n",
    "            game_over=True\n",
    "            print(\"GAME OVER!\")\n",
    "            print(f\"The word was {''.join(guessing_word)}\")\n",
    "        else:\n",
    "            print(f\"You have {tries} tries left\\n\")\n",
    "            print(lives[tries])"
   ]
  },
  {
   "cell_type": "code",
   "execution_count": null,
   "id": "1ca586dd",
   "metadata": {},
   "outputs": [],
   "source": []
  }
 ],
 "metadata": {
  "kernelspec": {
   "display_name": "Python 3 (ipykernel)",
   "language": "python",
   "name": "python3"
  },
  "language_info": {
   "codemirror_mode": {
    "name": "ipython",
    "version": 3
   },
   "file_extension": ".py",
   "mimetype": "text/x-python",
   "name": "python",
   "nbconvert_exporter": "python",
   "pygments_lexer": "ipython3",
   "version": "3.9.13"
  }
 },
 "nbformat": 4,
 "nbformat_minor": 5
}
